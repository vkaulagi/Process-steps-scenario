{
 "cells": [
  {
   "cell_type": "code",
   "execution_count": 44,
   "metadata": {},
   "outputs": [],
   "source": [
    "from sklearn.metrics import cohen_kappa_score\n",
    "import json, csv\n",
    "\n",
    "# read the tagged verbs\n",
    "def read_data(filename):\n",
    "    data = []\n",
    "    sentences = []\n",
    "    tagged_sents = json.load(open(filename))\n",
    "    \n",
    "    # keep track of the sentence and word ids for traceability\n",
    "    sent_id = -1\n",
    "    for sent in tagged_sents:\n",
    "        sentences.append([w[0] for w in sent])\n",
    "        sent_id += 1\n",
    "        word_id = -1\n",
    "        for word in sent:\n",
    "            word_id += 1\n",
    "            if word[1] != 'VERB':\n",
    "                continue\n",
    "            if len(word) == 3:\n",
    "                data.append([sent_id, word_id, word[2]])\n",
    "            else:\n",
    "                print('Missing tag at sentence %i, word %i' % (\n",
    "                    sent_id, word_id))\n",
    "    return data, sentences\n"
   ]
  },
  {
   "cell_type": "code",
   "execution_count": 45,
   "metadata": {},
   "outputs": [
    {
     "name": "stdout",
     "output_type": "stream",
     "text": [
      "Read 501 tagged items.\n",
      "Read 501 tagged items.\n"
     ]
    }
   ],
   "source": [
    "data1, sentences = read_data('sampled_tags_tb.json')\n",
    "print('Read %i tagged items.' % len(data))\n",
    "\n",
    "# change the filename below to match your file\n",
    "data2, _ = read_data('sampled_tags_vk.json')\n",
    "print('Read %i tagged items.' % len(data))"
   ]
  },
  {
   "cell_type": "code",
   "execution_count": 46,
   "metadata": {},
   "outputs": [
    {
     "name": "stdout",
     "output_type": "stream",
     "text": [
      "Cohen's Kappa: 0.987\n"
     ]
    }
   ],
   "source": [
    "# compute Cohen's Kappa for two raters\n",
    "\n",
    "y1 = [x[2] for x in data1]\n",
    "y2 = [x[2] for x in data2]\n",
    "kappa = cohen_kappa_score(y1, y2)\n",
    "print('Cohen\\'s Kappa: %0.3f' % kappa)"
   ]
  },
  {
   "cell_type": "code",
   "execution_count": 47,
   "metadata": {},
   "outputs": [],
   "source": [
    "# write the disagreements out to a file for inspection\n",
    "disagreed = []\n",
    "\n",
    "# format of data1/data2: sent_id, word_id, code\n",
    "for x1, x2 in zip(data1, data2):\n",
    "    if x1[2] != x2[2]:\n",
    "        # record the sent_id, word_id, word, codes, plus the sentence\n",
    "        sent = list(sentences[x1[0]])\n",
    "        sent[x1[1]] = '[' + sent[x1[1]] + ']'\n",
    "        disagreed.append([\n",
    "            x1[0], x1[1], x1[2], x2[2], ' '.join(sent)\n",
    "        ])\n",
    "\n",
    "with open('disagreements.csv', 'w') as f:\n",
    "    writer = csv.writer(f)\n",
    "    writer.writerow(['sent_id', 'word_id', 'code1', 'code2', 'sentence'])\n",
    "    for row in disagreed:\n",
    "        writer.writerow(row)\n"
   ]
  },
  {
   "cell_type": "code",
   "execution_count": null,
   "metadata": {},
   "outputs": [],
   "source": []
  }
 ],
 "metadata": {
  "kernelspec": {
   "display_name": "Python 3",
   "language": "python",
   "name": "python3"
  },
  "language_info": {
   "codemirror_mode": {
    "name": "ipython",
    "version": 3
   },
   "file_extension": ".py",
   "mimetype": "text/x-python",
   "name": "python",
   "nbconvert_exporter": "python",
   "pygments_lexer": "ipython3",
   "version": "3.8.5"
  }
 },
 "nbformat": 4,
 "nbformat_minor": 4
}
